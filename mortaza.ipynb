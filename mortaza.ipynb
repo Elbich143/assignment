{
  "nbformat": 4,
  "nbformat_minor": 0,
  "metadata": {
    "colab": {
      "provenance": [],
      "toc_visible": true
    },
    "kernelspec": {
      "name": "python3",
      "display_name": "Python 3"
    },
    "language_info": {
      "name": "python"
    }
  },
  "cells": [
    {
      "cell_type": "markdown",
      "source": [
        "#functions\n",
        "\n",
        "\n",
        "> Add blockquote\n",
        "\n"
      ],
      "metadata": {
        "id": "P0XhXZzbFhyf"
      }
    },
    {
      "cell_type": "markdown",
      "source": [
        "what is ur name\n",
        "\n",
        "ny name is eakihan"
      ],
      "metadata": {
        "id": "0ujQfr9xFzzy"
      }
    },
    {
      "cell_type": "code",
      "source": [
        "print('hello ea khan')\n"
      ],
      "metadata": {
        "colab": {
          "base_uri": "https://localhost:8080/"
        },
        "id": "ghMZL1GyFzVo",
        "outputId": "bd70ea1f-bbba-4d08-b7d9-0c1ab437875f"
      },
      "execution_count": 1,
      "outputs": [
        {
          "output_type": "stream",
          "name": "stdout",
          "text": [
            "hello ea khan\n"
          ]
        }
      ]
    },
    {
      "cell_type": "code",
      "execution_count": null,
      "metadata": {
        "id": "853kX2oEFXqC"
      },
      "outputs": [],
      "source": []
    },
    {
      "cell_type": "markdown",
      "source": [],
      "metadata": {
        "id": "3rQ7WxJRFZ5q"
      }
    }
  ]
}